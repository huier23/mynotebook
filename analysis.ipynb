{
 "cells": [
  {
   "cell_type": "code",
   "execution_count": 4,
   "metadata": {},
   "outputs": [],
   "source": [
    "from pyspark.sql.functions import split, explode, col, udf\n",
    "from pyspark.sql.types import *\n",
    "from pyspark.sql import SparkSession"
   ]
  },
  {
   "cell_type": "code",
   "execution_count": 5,
   "metadata": {},
   "outputs": [],
   "source": [
    "spark = SparkSession.builder.appName('temps-demo').getOrCreate()\n",
    "\n",
    "# Setting storage account connection\n",
    "container_name = \"datasource\"\n",
    "storage_account_name = \"sghuierdatabricks\"\n",
    "storage_account_access_key = \"f4hfs9ZwA9kfTBnSRsYF+gGJ7V658cOQhcAd830iPfW0VaT5sZr88sOSvqR64fRR+SqCejlhYYy/+ASttrBBTQ==\"\n",
    "spark.conf.set(\"fs.azure.account.key.\" + storage_account_name +\".blob.core.windows.net\",storage_account_access_key)"
   ]
  },
  {
   "cell_type": "code",
   "execution_count": 6,
   "metadata": {},
   "outputs": [],
   "source": [
    "# Get stroage data location\n",
    "ratingsLocation = \"wasbs://\" + container_name +\"@\" + storage_account_name + \".blob.core.windows.net/ratings.csv\"\n",
    "moviesLocation = \"wasbs://\" + container_name +\"@\" + storage_account_name +\".blob.core.windows.net/movies.csv\"\n",
    "# Get ratings and movies data\n",
    "ratings = spark.read.format(\"csv\") \\\n",
    "  .option(\"inferSchema\", \"true\") \\\n",
    "  .option(\"header\", \"true\") \\\n",
    "  .load(ratingsLocation)\n",
    "movies = spark.read.format(\"csv\") \\\n",
    "  .option(\"inferSchema\", \"true\") \\\n",
    "  .option(\"header\", \"true\") \\\n",
    "  .load(moviesLocation)"
   ]
  },
  {
   "cell_type": "code",
   "execution_count": 7,
   "metadata": {},
   "outputs": [
    {
     "name": "stdout",
     "output_type": "stream",
     "text": [
      "+-------+--------------------+--------------------+\n",
      "|movieId|               title|              genres|\n",
      "+-------+--------------------+--------------------+\n",
      "|      1|    Toy Story (1995)|Adventure|Animati...|\n",
      "|      2|      Jumanji (1995)|Adventure|Childre...|\n",
      "|      3|Grumpier Old Men ...|      Comedy|Romance|\n",
      "|      4|Waiting to Exhale...|Comedy|Drama|Romance|\n",
      "|      5|Father of the Bri...|              Comedy|\n",
      "|      6|         Heat (1995)|Action|Crime|Thri...|\n",
      "|      7|      Sabrina (1995)|      Comedy|Romance|\n",
      "|      8| Tom and Huck (1995)|  Adventure|Children|\n",
      "|      9| Sudden Death (1995)|              Action|\n",
      "|     10|    GoldenEye (1995)|Action|Adventure|...|\n",
      "|     11|American Presiden...|Comedy|Drama|Romance|\n",
      "|     12|Dracula: Dead and...|       Comedy|Horror|\n",
      "|     13|        Balto (1995)|Adventure|Animati...|\n",
      "|     14|        Nixon (1995)|               Drama|\n",
      "|     15|Cutthroat Island ...|Action|Adventure|...|\n",
      "|     16|       Casino (1995)|         Crime|Drama|\n",
      "|     17|Sense and Sensibi...|       Drama|Romance|\n",
      "|     18|   Four Rooms (1995)|              Comedy|\n",
      "|     19|Ace Ventura: When...|              Comedy|\n",
      "|     20|  Money Train (1995)|Action|Comedy|Cri...|\n",
      "+-------+--------------------+--------------------+\n",
      "only showing top 20 rows\n",
      "\n"
     ]
    }
   ],
   "source": [
    "movies.show()"
   ]
  },
  {
   "cell_type": "code",
   "execution_count": 8,
   "metadata": {},
   "outputs": [
    {
     "name": "stdout",
     "output_type": "stream",
     "text": [
      "+------+-------+------+---------+\n",
      "|userId|movieId|rating|timestamp|\n",
      "+------+-------+------+---------+\n",
      "|     1|      1|   4.0|964982703|\n",
      "|     1|      3|   4.0|964981247|\n",
      "|     1|      6|   4.0|964982224|\n",
      "|     1|     47|   5.0|964983815|\n",
      "|     1|     50|   5.0|964982931|\n",
      "|     1|     70|   3.0|964982400|\n",
      "|     1|    101|   5.0|964980868|\n",
      "|     1|    110|   4.0|964982176|\n",
      "|     1|    151|   5.0|964984041|\n",
      "|     1|    157|   5.0|964984100|\n",
      "|     1|    163|   5.0|964983650|\n",
      "|     1|    216|   5.0|964981208|\n",
      "|     1|    223|   3.0|964980985|\n",
      "|     1|    231|   5.0|964981179|\n",
      "|     1|    235|   4.0|964980908|\n",
      "|     1|    260|   5.0|964981680|\n",
      "|     1|    296|   3.0|964982967|\n",
      "|     1|    316|   3.0|964982310|\n",
      "|     1|    333|   5.0|964981179|\n",
      "|     1|    349|   4.0|964982563|\n",
      "+------+-------+------+---------+\n",
      "only showing top 20 rows\n",
      "\n"
     ]
    }
   ],
   "source": [
    "ratings.show()"
   ]
  },
  {
   "cell_type": "code",
   "execution_count": 9,
   "metadata": {},
   "outputs": [],
   "source": [
    "# first we cast the int column to Timestamp\n",
    "ratingsTemp = ratings \\\n",
    "  .withColumn(\"ts\", ratings.timestamp.cast(\"Timestamp\")) \n",
    "  \n",
    "# then, we cast Timestamp to Date\n",
    "ratings = ratingsTemp \\\n",
    "  .withColumn(\"reviewDate\", ratingsTemp.ts.cast(\"Date\")) \\\n",
    "  .drop(\"ts\", \"timestamp\")"
   ]
  },
  {
   "cell_type": "code",
   "execution_count": 10,
   "metadata": {},
   "outputs": [
    {
     "name": "stdout",
     "output_type": "stream",
     "text": [
      "+------+-------+------+----------+\n",
      "|userId|movieId|rating|reviewDate|\n",
      "+------+-------+------+----------+\n",
      "|     1|      1|   4.0|2000-07-31|\n",
      "|     1|      3|   4.0|2000-07-31|\n",
      "|     1|      6|   4.0|2000-07-31|\n",
      "|     1|     47|   5.0|2000-07-31|\n",
      "|     1|     50|   5.0|2000-07-31|\n",
      "|     1|     70|   3.0|2000-07-31|\n",
      "|     1|    101|   5.0|2000-07-31|\n",
      "|     1|    110|   4.0|2000-07-31|\n",
      "|     1|    151|   5.0|2000-07-31|\n",
      "|     1|    157|   5.0|2000-07-31|\n",
      "|     1|    163|   5.0|2000-07-31|\n",
      "|     1|    216|   5.0|2000-07-31|\n",
      "|     1|    223|   3.0|2000-07-31|\n",
      "|     1|    231|   5.0|2000-07-31|\n",
      "|     1|    235|   4.0|2000-07-31|\n",
      "|     1|    260|   5.0|2000-07-31|\n",
      "|     1|    296|   3.0|2000-07-31|\n",
      "|     1|    316|   3.0|2000-07-31|\n",
      "|     1|    333|   5.0|2000-07-31|\n",
      "|     1|    349|   4.0|2000-07-31|\n",
      "+------+-------+------+----------+\n",
      "only showing top 20 rows\n",
      "\n"
     ]
    }
   ],
   "source": [
    "ratings.show()"
   ]
  },
  {
   "cell_type": "code",
   "execution_count": 11,
   "metadata": {},
   "outputs": [],
   "source": [
    "\n",
    "# use a Spark UDF(user-defined function) to get the year a movie was made, from the title\n",
    "\n",
    "def titleToYear(title):\n",
    "  try:\n",
    "    return int(title[title.rfind(\"(\")+1:title.rfind(\")\")])\n",
    "  except:\n",
    "    return None\n",
    "# register the above Spark function as UDF\n",
    "titleToYearUdf = udf(titleToYear, IntegerType())\n",
    "# add the movieYear column\n",
    "movies = movies.withColumn(\"movieYear\", titleToYearUdf(movies.title))\n",
    "# explode the 'movies'.'genres' values into separate rows\n",
    "movies_denorm = movies.withColumn(\"genre\", explode(split(\"genres\", \"\\|\"))).drop(\"genres\")\n",
    "# join movies and ratings datasets on movieId\n",
    "ratings_denorm = ratings.alias('a').join(movies_denorm.alias('b'), 'movieId', 'inner')"
   ]
  },
  {
   "cell_type": "code",
   "execution_count": 12,
   "metadata": {},
   "outputs": [
    {
     "name": "stdout",
     "output_type": "stream",
     "text": [
      "+-------+------+------+----------+--------------------+---------+---------+\n",
      "|movieId|userId|rating|reviewDate|               title|movieYear|    genre|\n",
      "+-------+------+------+----------+--------------------+---------+---------+\n",
      "|      1|     1|   4.0|2000-07-31|    Toy Story (1995)|     1995|  Fantasy|\n",
      "|      1|     1|   4.0|2000-07-31|    Toy Story (1995)|     1995|   Comedy|\n",
      "|      1|     1|   4.0|2000-07-31|    Toy Story (1995)|     1995| Children|\n",
      "|      1|     1|   4.0|2000-07-31|    Toy Story (1995)|     1995|Animation|\n",
      "|      1|     1|   4.0|2000-07-31|    Toy Story (1995)|     1995|Adventure|\n",
      "|      3|     1|   4.0|2000-07-31|Grumpier Old Men ...|     1995|  Romance|\n",
      "|      3|     1|   4.0|2000-07-31|Grumpier Old Men ...|     1995|   Comedy|\n",
      "|      6|     1|   4.0|2000-07-31|         Heat (1995)|     1995| Thriller|\n",
      "|      6|     1|   4.0|2000-07-31|         Heat (1995)|     1995|    Crime|\n",
      "|      6|     1|   4.0|2000-07-31|         Heat (1995)|     1995|   Action|\n",
      "|     47|     1|   5.0|2000-07-31|Seven (a.k.a. Se7...|     1995| Thriller|\n",
      "|     47|     1|   5.0|2000-07-31|Seven (a.k.a. Se7...|     1995|  Mystery|\n",
      "|     50|     1|   5.0|2000-07-31|Usual Suspects, T...|     1995| Thriller|\n",
      "|     50|     1|   5.0|2000-07-31|Usual Suspects, T...|     1995|  Mystery|\n",
      "|     50|     1|   5.0|2000-07-31|Usual Suspects, T...|     1995|    Crime|\n",
      "|     70|     1|   3.0|2000-07-31|From Dusk Till Da...|     1996| Thriller|\n",
      "|     70|     1|   3.0|2000-07-31|From Dusk Till Da...|     1996|   Horror|\n",
      "|     70|     1|   3.0|2000-07-31|From Dusk Till Da...|     1996|   Comedy|\n",
      "|     70|     1|   3.0|2000-07-31|From Dusk Till Da...|     1996|   Action|\n",
      "|    101|     1|   5.0|2000-07-31|Bottle Rocket (1996)|     1996|  Romance|\n",
      "+-------+------+------+----------+--------------------+---------+---------+\n",
      "only showing top 20 rows\n",
      "\n"
     ]
    }
   ],
   "source": [
    "ratings_denorm.show()"
   ]
  }
 ],
 "metadata": {
  "interpreter": {
   "hash": "d6a8e9b054b1b8d31ba677bbce206f64f46c3f7aee866a424ed4c953237dde45"
  },
  "kernelspec": {
   "display_name": "Python 3.8.10 ('.env': venv)",
   "language": "python",
   "name": "python3"
  },
  "language_info": {
   "codemirror_mode": {
    "name": "ipython",
    "version": 3
   },
   "file_extension": ".py",
   "mimetype": "text/x-python",
   "name": "python",
   "nbconvert_exporter": "python",
   "pygments_lexer": "ipython3",
   "version": "3.8.10"
  },
  "orig_nbformat": 4
 },
 "nbformat": 4,
 "nbformat_minor": 2
}
